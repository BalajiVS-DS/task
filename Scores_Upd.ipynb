{
  "nbformat": 4,
  "nbformat_minor": 0,
  "metadata": {
    "colab": {
      "provenance": []
    },
    "kernelspec": {
      "name": "python3",
      "display_name": "Python 3"
    },
    "language_info": {
      "name": "python"
    }
  },
  "cells": [
    {
      "cell_type": "code",
      "source": [
        "required_degrees = [\"B.Tech\"]\n",
        "candidate_degree = \"BDS in Dental\"\n",
        "required_specializations= [\"Computer Science\", \"Electronics\", \"Software Engineering\"]\n",
        "spec_a=required_specializations\n",
        "\n",
        "import re\n",
        "\n",
        "def extract_degree_only(text):\n",
        "    \"\"\"\n",
        "    Extracts the degree part from a string like \"BE in Computer Science\".\n",
        "    Returns the degree in uppercase.\n",
        "    \"\"\"\n",
        "    match = re.match(r\"([A-Za-z\\.]+)\", text.strip())\n",
        "    if match:\n",
        "        return match.group(1).upper()\n",
        "    return None\n",
        "\n",
        "\n",
        "\n",
        "def extract_specialization(text):\n",
        "    # Normalize spaces\n",
        "    text = text.strip()\n",
        "\n",
        "    # Regex pattern to capture text after 'in' or 'of' (e.g., 'BDS in Dental')\n",
        "    match = re.search(r'\\b(?:in|of)\\s+([A-Za-z &\\-]+)', text, re.IGNORECASE)\n",
        "\n",
        "    if match:\n",
        "        specialization = match.group(1).strip()\n",
        "        return specialization\n",
        "    return None\n",
        "\n",
        "degree = extract_degree_only(candidate_degree)\n",
        "specialization=extract_specialization(candidate_degree)\n",
        "print(\"Degree: \"+ degree+ \"   Specialization: \"+specialization)"
      ],
      "metadata": {
        "colab": {
          "base_uri": "https://localhost:8080/"
        },
        "id": "JuWw_RkIJr8P",
        "outputId": "75046c2a-dccf-403c-9b71-60ba448134ba"
      },
      "execution_count": 7,
      "outputs": [
        {
          "output_type": "stream",
          "name": "stdout",
          "text": [
            "Degree: BDS   Specialization: Dental\n"
          ]
        }
      ]
    },
    {
      "cell_type": "markdown",
      "source": [
        "###EDUCATION SCORE CALCULATION"
      ],
      "metadata": {
        "id": "CmjljIrZGH-X"
      }
    },
    {
      "cell_type": "markdown",
      "source": [
        "1) SPECIALIZATION SCORE"
      ],
      "metadata": {
        "id": "KaKYCTFaG6Nx"
      }
    },
    {
      "cell_type": "code",
      "execution_count": 19,
      "metadata": {
        "colab": {
          "base_uri": "https://localhost:8080/"
        },
        "id": "EHxeHpHrFsZ-",
        "outputId": "11bbb857-1b9b-464f-d9f1-26a56958d17a"
      },
      "outputs": [
        {
          "output_type": "stream",
          "name": "stdout",
          "text": [
            "Best match for 'Dental' is 'Electronics' with score: 46%\n"
          ]
        }
      ],
      "source": [
        "from sentence_transformers import SentenceTransformer, util\n",
        "\n",
        "# Load the sentence transformer model\n",
        "model = SentenceTransformer('sentence-transformers/all-mpnet-base-v2')\n",
        "\n",
        "def compare_specializations(specs_a, spec_b):\n",
        "    # Ensure specs_a is a list\n",
        "    if isinstance(specs_a, str):\n",
        "        specs_a = [specs_a]\n",
        "\n",
        "    # Encode all specializations in specs_a and spec_b\n",
        "    embeddings_a = model.encode(specs_a, convert_to_tensor=True)\n",
        "    embedding_b = model.encode(spec_b, convert_to_tensor=True)\n",
        "\n",
        "    # Compute cosine similarities\n",
        "    cosine_scores = util.pytorch_cos_sim(embeddings_a, embedding_b).squeeze()\n",
        "\n",
        "    # Find best score and corresponding specialization\n",
        "    best_index = torch.argmax(cosine_scores).item()\n",
        "    best_score = cosine_scores[best_index].item()\n",
        "    best_spec = specs_a[best_index]\n",
        "\n",
        "    # Convert to similarity percentage and cap at 100\n",
        "    similarity_percentage = round(min(best_score * 100 + 20, 100))\n",
        "\n",
        "    return {\n",
        "        \"best_score\": similarity_percentage,\n",
        "        \"matched_specialization\": best_spec\n",
        "    }\n",
        "\n",
        "# Example usage\n",
        "\n",
        "\n",
        "result = compare_specializations(spec_a, specialization)\n",
        "spec_score_=result['best_score']\n",
        "print(f\"Best match for '{specialization}' is '{result['matched_specialization']}' with score: {result['best_score']}%\")\n"
      ]
    },
    {
      "cell_type": "markdown",
      "source": [
        "2) DEGREE SCORE CALCULATION"
      ],
      "metadata": {
        "id": "4V9rwqBWGp7L"
      }
    },
    {
      "cell_type": "code",
      "source": [
        "#LIST ALL EQUIVALENT DEGREES FIRST\n",
        "equivalent_degrees = {\n",
        "    \"B.Tech\": [\"Bachelor of Technology\", \"B.E.\", \"Bachelor of Engineering\"],\n",
        "    \"M.Tech\": [\"Master of Technology\", \"M.E.\", \"Master of Engineering\"],\n",
        "    \"B.Sc.\": [\"Bachelor of Science\"],\n",
        "    \"M.Sc.\": [\"Master of Science\"],\n",
        "    \"B.Com.\": [\"Bachelor of Commerce\"],\n",
        "    \"M.Com.\": [\"Master of Commerce\"],\n",
        "    \"B.A.\": [\"Bachelor of Arts\"],\n",
        "    \"M.A.\": [\"Master of Arts\"],\n",
        "    \"BBA\": [\"Bachelor of Business Administration\"],\n",
        "    \"MBA\": [\"Master of Business Administration\", \"PGDM\"],\n",
        "    \"BCA\": [\"Bachelor of Computer Applications\"],\n",
        "    \"MCA\": [\"Master of Computer Applications\"],\n",
        "    \"LL.B.\": [\"Bachelor of Laws\"],\n",
        "    \"LL.M.\": [\"Master of Laws\"],\n",
        "    \"MBBS\": [\"Bachelor of Medicine, Bachelor of Surgery\"],\n",
        "    \"MD\": [\"Doctor of Medicine\"],\n",
        "    \"BDS\": [\"Bachelor of Dental Surgery\"],\n",
        "    \"B.Pharm\": [\"Bachelor of Pharmacy\"],\n",
        "    \"M.Pharm\": [\"Master of Pharmacy\"],\n",
        "    \"B.Arch\": [\"Bachelor of Architecture\"],\n",
        "    \"M.Arch\": [\"Master of Architecture\"],\n",
        "    \"B.Ed.\": [\"Bachelor of Education\"],\n",
        "    \"M.Ed.\": [\"Master of Education\"],\n",
        "    \"Ph.D.\": [\"Doctor of Philosophy\"]\n",
        "}\n",
        "\n",
        "from sentence_transformers import SentenceTransformer, util\n",
        "import torch\n",
        "\n",
        "# Load the sentence-transformer model\n",
        "model = SentenceTransformer('sentence-transformers/all-mpnet-base-v2')\n",
        "\n",
        "def get_degree_score_with_nlp(required_degrees, candidate_degree, equivalent_degrees, threshold=0.75):\n",
        "    normalized_required = [deg.strip().lower() for deg in required_degrees]\n",
        "    candidate_degree_norm = candidate_degree.strip().lower()\n",
        "\n",
        "    # Handle generic UG requirement\n",
        "    if any(req in {\"ug\", \"undergraduate\", \"any degree\"} for req in normalized_required):\n",
        "        return 100\n",
        "\n",
        "    # Check for exact match or known equivalence\n",
        "    for req_degree in required_degrees:\n",
        "        for base, equivalents in equivalent_degrees.items():\n",
        "            if req_degree == base or req_degree in equivalents:\n",
        "                if candidate_degree == base or candidate_degree in equivalents:\n",
        "                    return 100\n",
        "\n",
        "    # NLP fallback: compute similarity\n",
        "    best_score = 0\n",
        "    for req_degree in required_degrees:\n",
        "        emb1 = model.encode(req_degree, convert_to_tensor=True)\n",
        "        emb2 = model.encode(candidate_degree, convert_to_tensor=True)\n",
        "        score = util.pytorch_cos_sim(emb1, emb2).item()\n",
        "        if score > best_score:\n",
        "            best_score = score\n",
        "\n",
        "    # Normalize cosine similarity [0.3, threshold] → [0, 90]\n",
        "    if best_score < 0.3:\n",
        "        return 0\n",
        "    elif best_score > threshold:\n",
        "        return 90\n",
        "    return round((best_score - 0.3) / (threshold - 0.3) * 90)\n",
        "\n",
        "\n",
        "\n",
        "score = get_degree_score_with_nlp(required_degrees, degree , equivalent_degrees)\n",
        "print(\"Required Degree: \" + str(required_degrees) + \" Candidate Degree: \" + degree)\n",
        "print(\"Degree Score:\", score)\n",
        "\n",
        "\n"
      ],
      "metadata": {
        "colab": {
          "base_uri": "https://localhost:8080/"
        },
        "id": "dVOBCl15GoXj",
        "outputId": "fd89acf9-2992-443f-9f59-c3e3e8995ca1"
      },
      "execution_count": 15,
      "outputs": [
        {
          "output_type": "stream",
          "name": "stdout",
          "text": [
            "Required Degree: ['B.Tech'] Candidate Degree: BDS\n",
            "Degree Score: 21\n"
          ]
        }
      ]
    },
    {
      "cell_type": "code",
      "source": [
        "education_score=spec_score_+score  #normln fun code as of now\n",
        "print(education_score)"
      ],
      "metadata": {
        "colab": {
          "base_uri": "https://localhost:8080/"
        },
        "id": "ZyAaJmmXH-1V",
        "outputId": "2270d411-922e-42a6-fcdc-2187be263268"
      },
      "execution_count": 21,
      "outputs": [
        {
          "output_type": "stream",
          "name": "stdout",
          "text": [
            "67\n"
          ]
        }
      ]
    },
    {
      "cell_type": "markdown",
      "source": [
        "###JOB ROLE SCORE CALCULATION"
      ],
      "metadata": {
        "id": "_F-TzAxQNKSS"
      }
    },
    {
      "cell_type": "code",
      "source": [
        "import re\n",
        "from sentence_transformers import SentenceTransformer, util\n",
        "\n",
        "model = SentenceTransformer('sentence-transformers/all-mpnet-base-v2')\n",
        "\n",
        "# List of generic titles\n",
        "GENERIC_TITLES = [\n",
        "    \"developer\", \"engineer\", \"specialist\", \"expert\", \"consultant\", \"analyst\", \"associate\",\n",
        "    \"technician\", \"architect\", \"administrator\", \"manager\", \"lead\", \"director\", \"coordinator\",\n",
        "    \"officer\", \"supervisor\", \"operator\", \"executive\", \"intern\", \"assistant\",\n",
        "    \"junior\", \"senior\", \"principal\", \"head\", \"chief\", \"staff\", \"entry\", \"mid\",\n",
        "    \"experienced\", \"trainee\",\n",
        "     \"hardware\", \"systems\", \"support\", \"infrastructure\", \"solutions\",\n",
        "    \"operations\", \"it\", \"technology\", \"product\", \"business\", \"digital\",\n",
        "    \"corporate\", \"services\"\n",
        "]\n",
        "\n",
        "def clean_role_title(role: str) -> str:\n",
        "    \"\"\"\n",
        "    Remove generic words from the role title and extra spaces.\n",
        "    \"\"\"\n",
        "    role = role.lower()\n",
        "    # Remove generic words using regex word boundaries\n",
        "    pattern = r'\\b(' + '|'.join(map(re.escape, GENERIC_TITLES)) + r')\\b'\n",
        "    cleaned = re.sub(pattern, '', role)\n",
        "    # Remove extra spaces\n",
        "    cleaned = re.sub(r'\\s+', ' ', cleaned).strip()\n",
        "    return cleaned\n",
        "\n",
        "def normalize_score(raw_score, low=0.3, high=0.9):\n",
        "    if raw_score < low:\n",
        "        return 0\n",
        "    elif raw_score > high:\n",
        "        return 100\n",
        "    return round((raw_score - low) / (high - low) * 100)\n",
        "\n",
        "def get_role_similarity_score(role1: str, role2: str) -> int:\n",
        "    # Clean role titles\n",
        "    role1_clean = clean_role_title(role1)\n",
        "    role2_clean = clean_role_title(role2)\n",
        "\n",
        "\n",
        "    # Add minimal context\n",
        "    role1_text = f\"The job title is {role1_clean}.\"\n",
        "    role2_text = f\"The job title is {role2_clean}.\"\n",
        "\n",
        "\n",
        "\n",
        "    emb1 = model.encode(role1_text, convert_to_tensor=True)\n",
        "    emb2 = model.encode(role2_text, convert_to_tensor=True)\n",
        "\n",
        "    cosine_sim = util.pytorch_cos_sim(emb1, emb2).item()\n",
        "\n",
        "    return normalize_score(cosine_sim)\n"
      ],
      "metadata": {
        "id": "IFB3NWViMVJx"
      },
      "execution_count": 22,
      "outputs": []
    },
    {
      "cell_type": "code",
      "source": [
        "import pandas as pd\n",
        "test_cases = [\n",
        "    (\"React Developer\", \"Node JS Developer\"),            # related frontend/backend dev\n",
        "    (\"ML Engineer\", \"Data Scientist\"),                    # closely related AI/data roles\n",
        "    (\"Mechanical Engineer\", \"Frontend Developer\"),        # very different fields\n",
        "    (\"Doctor\", \"Scrum Master\"),                           # unrelated medical vs management\n",
        "    (\"Data Analyst\", \"Business Intelligence Analyst\"),   # very related analysis roles\n",
        "    (\"Project Manager\", \"Scrum Master\"),                  # similar project management roles\n",
        "    (\"Sales Manager\", \"Marketing Manager\"),               # related but different specialties\n",
        "    (\"Graphic Designer\", \"UX Designer\"),                  # related design roles\n",
        "    (\"DevOps Engineer\", \"Site Reliability Engineer\"),    # closely related IT ops roles\n",
        "    (\"Accountant\", \"Financial Analyst\"),                  # finance roles with overlap\n",
        "    (\"Civil Engineer\", \"Structural Engineer\"),            # closely related engineering roles\n",
        "    (\"Content Writer\", \"Copywriter\"),                      # very similar writing roles\n",
        "    (\"HR Manager\", \"Recruiter\"),                           # related HR roles\n",
        "    (\"Teacher\", \"Professor\"),                              # related education roles\n",
        "    (\"Pharmacist\", \"Chemist\"),                             # related science/health roles\n",
        "    (\"Backend Developer\", \"Database Administrator\"),      # related but distinct IT roles\n",
        "    (\"QA Engineer\", \"Software Tester\"),                    # highly similar roles\n",
        "    (\"Customer Support\", \"Technical Support\"),             # overlapping support roles\n",
        "    (\"Chef\", \"Restaurant Manager\"),                        # related but different restaurant jobs\n",
        "    (\"Electrician\", \"Plumber\"),                            # both trades but different skills\n",
        "    (\"Frontend Developer\", \"React Developer\"),                 # high\n",
        "    (\"Backend Developer\", \"Java Developer\"),                   # high\n",
        "    (\"Full Stack Developer\", \"Node.js Developer\"),             # high\n",
        "    (\"DevOps Engineer\", \"Cloud Engineer\"),                     # high\n",
        "    (\"System Administrator\", \"Network Engineer\"),              # moderate\n",
        "    (\"Database Administrator\", \"Data Engineer\"),               # moderate\n",
        "    (\"Data Scientist\", \"Data Analyst\"),                        # high\n",
        "    (\"Machine Learning Engineer\", \"Deep Learning Engineer\"),   # high\n",
        "    (\"Product Manager\", \"Business Analyst\"),                   # moderate\n",
        "    (\"QA Engineer\", \"Software Tester\"),                        # high\n",
        "    (\"Security Engineer\", \"Penetration Tester\"),               # high\n",
        "    (\"Cloud Architect\", \"AWS Solutions Architect\"),            # high\n",
        "    (\"Frontend Developer\", \"UI Developer\"),                    # high\n",
        "    (\"UX Designer\", \"UI Designer\"),                            # high\n",
        "    (\"DevOps Engineer\", \"Site Reliability Engineer\"),          # high\n",
        "    (\"IT Support Specialist\", \"Help Desk Technician\"),         # high\n",
        "    (\"Network Security Engineer\", \"Cybersecurity Analyst\"),    # high\n",
        "    (\"Java Developer\", \"C++ Developer\"),                       # moderate\n",
        "    (\"Python Developer\", \"Data Engineer\"),                     # moderate\n",
        "    (\"Business Intelligence Analyst\", \"Data Analyst\"),         # high\n",
        "    (\"ETL Developer\", \"Data Engineer\"),                        # high\n",
        "    (\"Scrum Master\", \"Agile Coach\"),                           # high\n",
        "    (\"Project Manager\", \"Delivery Manager\"),                   # high\n",
        "    (\"Cloud Engineer\", \"Azure Engineer\"),                      # high\n",
        "    (\"React Developer\", \"Angular Developer\"),                  # moderate\n",
        "    (\"Software Developer\", \"Software Engineer\"),               # high\n",
        "    (\"Database Administrator\", \"MySQL Developer\"),             # high\n",
        "    (\"iOS Developer\", \"Android Developer\"),                    # moderate\n",
        "    (\"Technical Lead\", \"Engineering Manager\"),                 # high\n",
        "    (\"Solutions Architect\", \"Enterprise Architect\")            # moderate\n",
        "\n",
        "]\n",
        "\n",
        "for r1, r2 in test_cases:\n",
        "    score = get_role_similarity_score(r1, r2)\n",
        "    print(f\"Similarity({r1!r}, {r2!r}) = {score}\")\n",
        "\n",
        "results = []\n",
        "for role1, role2 in test_cases:\n",
        "    score = get_role_similarity_score(role1, role2)\n",
        "    results.append({\"Role 1\": role1, \"Role 2\": role2, \"Similarity Score\": score})\n",
        "\n",
        "\n"
      ],
      "metadata": {
        "colab": {
          "base_uri": "https://localhost:8080/"
        },
        "id": "EdFt5D3fNU6m",
        "outputId": "51e8abbf-a391-47e3-df75-b03920fc66ff"
      },
      "execution_count": 24,
      "outputs": [
        {
          "output_type": "stream",
          "name": "stdout",
          "text": [
            "Similarity('React Developer', 'Node JS Developer') = 67\n",
            "Similarity('ML Engineer', 'Data Scientist') = 70\n",
            "Similarity('Mechanical Engineer', 'Frontend Developer') = 41\n",
            "Similarity('Doctor', 'Scrum Master') = 15\n",
            "Similarity('Data Analyst', 'Business Intelligence Analyst') = 49\n",
            "Similarity('Project Manager', 'Scrum Master') = 38\n",
            "Similarity('Sales Manager', 'Marketing Manager') = 85\n",
            "Similarity('Graphic Designer', 'UX Designer') = 92\n",
            "Similarity('DevOps Engineer', 'Site Reliability Engineer') = 46\n",
            "Similarity('Accountant', 'Financial Analyst') = 85\n",
            "Similarity('Civil Engineer', 'Structural Engineer') = 45\n",
            "Similarity('Content Writer', 'Copywriter') = 86\n",
            "Similarity('HR Manager', 'Recruiter') = 64\n",
            "Similarity('Teacher', 'Professor') = 83\n",
            "Similarity('Pharmacist', 'Chemist') = 69\n",
            "Similarity('Backend Developer', 'Database Administrator') = 69\n",
            "Similarity('QA Engineer', 'Software Tester') = 80\n",
            "Similarity('Customer Support', 'Technical Support') = 57\n",
            "Similarity('Chef', 'Restaurant Manager') = 80\n",
            "Similarity('Electrician', 'Plumber') = 65\n",
            "Similarity('Frontend Developer', 'React Developer') = 66\n",
            "Similarity('Backend Developer', 'Java Developer') = 53\n",
            "Similarity('Full Stack Developer', 'Node.js Developer') = 53\n",
            "Similarity('DevOps Engineer', 'Cloud Engineer') = 55\n",
            "Similarity('System Administrator', 'Network Engineer') = 60\n",
            "Similarity('Database Administrator', 'Data Engineer') = 83\n",
            "Similarity('Data Scientist', 'Data Analyst') = 93\n",
            "Similarity('Machine Learning Engineer', 'Deep Learning Engineer') = 92\n",
            "Similarity('Product Manager', 'Business Analyst') = 100\n",
            "Similarity('QA Engineer', 'Software Tester') = 80\n",
            "Similarity('Security Engineer', 'Penetration Tester') = 47\n",
            "Similarity('Cloud Architect', 'AWS Solutions Architect') = 84\n",
            "Similarity('Frontend Developer', 'UI Developer') = 72\n",
            "Similarity('UX Designer', 'UI Designer') = 100\n",
            "Similarity('DevOps Engineer', 'Site Reliability Engineer') = 46\n",
            "Similarity('IT Support Specialist', 'Help Desk Technician') = 60\n",
            "Similarity('Network Security Engineer', 'Cybersecurity Analyst') = 100\n",
            "Similarity('Java Developer', 'C++ Developer') = 63\n",
            "Similarity('Python Developer', 'Data Engineer') = 54\n",
            "Similarity('Business Intelligence Analyst', 'Data Analyst') = 49\n",
            "Similarity('ETL Developer', 'Data Engineer') = 52\n",
            "Similarity('Scrum Master', 'Agile Coach') = 71\n",
            "Similarity('Project Manager', 'Delivery Manager') = 45\n",
            "Similarity('Cloud Engineer', 'Azure Engineer') = 80\n",
            "Similarity('React Developer', 'Angular Developer') = 63\n",
            "Similarity('Software Developer', 'Software Engineer') = 100\n",
            "Similarity('Database Administrator', 'MySQL Developer') = 98\n",
            "Similarity('iOS Developer', 'Android Developer') = 89\n",
            "Similarity('Technical Lead', 'Engineering Manager') = 69\n",
            "Similarity('Solutions Architect', 'Enterprise Architect') = 60\n"
          ]
        }
      ]
    },
    {
      "cell_type": "code",
      "source": [],
      "metadata": {
        "id": "wuKSepeJNV1R"
      },
      "execution_count": null,
      "outputs": []
    }
  ]
}